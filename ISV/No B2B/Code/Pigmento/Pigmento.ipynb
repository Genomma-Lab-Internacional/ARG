{
 "cells": [
  {
   "cell_type": "markdown",
   "metadata": {},
   "source": [
    "# Parámetros"
   ]
  },
  {
   "cell_type": "code",
   "execution_count": 1,
   "metadata": {},
   "outputs": [],
   "source": [
    "year = 2022\n",
    "week = 8\n",
    "#path = r'C:\\Users\\jshernandezm\\OneDrive - genommalabinternacional\\Info_POS_clientes\\Sell Out - No B2b\\Pigmento'\n",
    "path = r'C:\\Users\\amartinezgo\\genommalabinternacional\\Francisco Jose Delfino - Info_POS_clientes\\Sell Out - No B2b\\Pigmento'"
   ]
  },
  {
   "cell_type": "markdown",
   "metadata": {},
   "source": [
    "# Libraries"
   ]
  },
  {
   "cell_type": "code",
   "execution_count": 2,
   "metadata": {},
   "outputs": [],
   "source": [
    "import pandas as pd\n",
    "from datetime import datetime\n",
    "import pyodbc\n",
    "import shutil\n",
    "import os\n",
    "from openpyxl import load_workbook"
   ]
  },
  {
   "cell_type": "markdown",
   "metadata": {},
   "source": [
    "# Weekly Data"
   ]
  },
  {
   "cell_type": "markdown",
   "metadata": {},
   "source": [
    "## Connections to DWH"
   ]
  },
  {
   "cell_type": "code",
   "execution_count": 3,
   "metadata": {},
   "outputs": [],
   "source": [
    "conn1 = pyodbc.connect('Driver={SQL Server};'\n",
    "                     'Server=SFEDWH01;'\n",
    "                     'Database=Gnm_DWH;'\n",
    "                     'Trusted_Connection=yes;')\n",
    "\n",
    "conn2 = pyodbc.connect('Driver={SQL Server};'\n",
    "                     'Server=SFEDWH01;'\n",
    "                     'Database=Gnm_MasterOp;'\n",
    "                     'Trusted_Connection=yes;')\n",
    "\n",
    "query_days = '''SELECT TmpFecha\n",
    "                FROM Gnm_DWH.dbo.Dim_Tiempo\n",
    "                WHERE TmpAnioSemanaGenomma = {0} AND TmpSemanaAnioGenomma = {1}'''\n",
    "\n",
    "query_sucs = '''SELECT DISTINCT SUC.SucCodCliente, SUC.SucId\n",
    "                    FROM (SELECT DISTINCT PaisNombre, CadID FROM Gnm_MasterOp.dbo.vw_EstructuraClientesSegPTVTotal\n",
    "                    WHERE PaisNombre = 'Argentina') AS CLIE\n",
    "                LEFT JOIN (\n",
    "                    SELECT DISTINCT SucId, SucCodCliente, CadId FROM Gnm_MasterOp.dbo.vw_EstructuraSucursalesTotal) AS SUC\n",
    "                ON CLIE.CadID = SUC.CadID \n",
    "                '''"
   ]
  },
  {
   "cell_type": "markdown",
   "metadata": {},
   "source": [
    "## Load Data"
   ]
  },
  {
   "cell_type": "code",
   "execution_count": 4,
   "metadata": {},
   "outputs": [],
   "source": [
    "# dates\n",
    "df_days = pd.read_sql(query_days.format(year, week), conn1)\n",
    "# id sucursales\n",
    "df_sucs = pd.read_sql(query_sucs, conn2)"
   ]
  },
  {
   "cell_type": "code",
   "execution_count": 5,
   "metadata": {},
   "outputs": [],
   "source": [
    "# data Pigmento\n",
    "file_name = '{0}_{1}_Pigmento.xlsx'\n",
    "file_name = file_name.format(year, str(week).zfill(2))\n",
    "df = pd.read_excel(path + '\\\\' + file_name, header=1)"
   ]
  },
  {
   "cell_type": "markdown",
   "metadata": {},
   "source": [
    "## Clean Data"
   ]
  },
  {
   "cell_type": "code",
   "execution_count": 6,
   "metadata": {},
   "outputs": [],
   "source": [
    "df.rename({'EAN':'COD_PROV  ', 'DESCRIPCION':'DESCRIP   '}, axis=1, inplace=True)"
   ]
  },
  {
   "cell_type": "code",
   "execution_count": 7,
   "metadata": {},
   "outputs": [],
   "source": [
    "# Ignore rows with no data\n",
    "try:\n",
    "    not_null = df[df['PROVEEDOR '].isnull()].index.min()\n",
    "except:\n",
    "    not_null = df[df['Tot.Stock Val    '].isnull()].index.min()\n",
    "if pd.isnull(not_null):\n",
    "    not_null = df.shape[0]\n",
    "df = df[0:not_null].copy()\n",
    "\n",
    "# Filter data\n",
    "df = df[df['COD_PROV  '].notnull()].copy()\n",
    "\n",
    "df = df[df['ARTICULO  '] != '76387']\n",
    "df.reset_index(inplace=True, drop=True)\n",
    "\n",
    "# Change type\n",
    "df['EAN'] = df['COD_PROV  '].astype('int64')\n",
    "\n",
    "df.loc[df['ARTICULO  '] == '91251', 'EAN'] = 7798140259794\n",
    "df.loc[df['ARTICULO  '] == '79158', 'EAN'] = 650240018619"
   ]
  },
  {
   "cell_type": "code",
   "execution_count": 8,
   "metadata": {},
   "outputs": [],
   "source": [
    "# Columns related to stock units\n",
    "un_stock_cols = [c for c in df.columns if c.endswith('Stock')]\n",
    "# Columns related to stock value\n",
    "val_stock_cols = [c for c in df.columns if c.endswith('Stock Val.')]\n",
    "# Columns related to sell out units\n",
    "un_so_cols = [c for c in df.columns if c.endswith('Unid.Vend')]\n",
    "# Columns related to sell out value\n",
    "val_so_cols = [c for c in df.columns if c.endswith('Unid.Val. ')]\n",
    "# Columns related to sku\n",
    "sku_cols = ['ARTICULO  ', 'EAN', 'DESCRIP   ']"
   ]
  },
  {
   "cell_type": "code",
   "execution_count": 9,
   "metadata": {},
   "outputs": [],
   "source": [
    "# Remove column 'Total Stock'\n",
    "if un_stock_cols[-1:][0] == 'Total Stock':\n",
    "    un_stock_cols.pop(len(un_stock_cols) - 1)"
   ]
  },
  {
   "cell_type": "code",
   "execution_count": 10,
   "metadata": {},
   "outputs": [],
   "source": [
    "# Unpivote the table into 4 dataframes\n",
    "# Stock Value\n",
    "df_sv = df[sku_cols + val_stock_cols].melt(id_vars=sku_cols, value_vars=val_stock_cols, var_name='Suc_vs', value_name='Monto Inv')\n",
    "# Units Stock\n",
    "df_us = df[['EAN'] + un_stock_cols].melt(id_vars=['EAN'], value_vars=un_stock_cols, var_name='Suc_uv', value_name='Unidades Inv')\n",
    "# Sell Out Value\n",
    "df_sov = df[sku_cols + val_so_cols].melt(id_vars=sku_cols, value_vars=val_so_cols, var_name='Suc_vso', value_name='Monto SO')\n",
    "# Units Sell Out\n",
    "df_uso = df[['EAN'] + un_so_cols].melt(id_vars=['EAN'], value_vars=un_so_cols, var_name='Suc_uso', value_name='Unidades SO')"
   ]
  },
  {
   "cell_type": "code",
   "execution_count": 11,
   "metadata": {},
   "outputs": [],
   "source": [
    "df_sv = df_sv.groupby(sku_cols + ['Suc_vs']).sum().reset_index()\n",
    "df_us = df_us.groupby(['EAN', 'Suc_uv']).sum().reset_index()\n",
    "df_sov = df_sov.groupby(sku_cols + ['Suc_vso']).sum().reset_index()\n",
    "df_uso = df_uso.groupby(['EAN', 'Suc_uso']).sum().reset_index()"
   ]
  },
  {
   "cell_type": "code",
   "execution_count": 12,
   "metadata": {},
   "outputs": [],
   "source": [
    "# Create IDs\n",
    "df_sv['ID'] = df_sv['EAN'].astype(str) + df_sv['Suc_vs'].apply(lambda x: x.split(' Stock Val.')[0])\n",
    "df_us['ID'] = df_us['EAN'].astype(str) + df_us['Suc_uv'].apply(lambda x: x.split(' Stock')[0])\n",
    "df_sov['ID'] = df_sov['EAN'].astype(str) + df_sov['Suc_vso'].apply(lambda x: x.split(' Unid.Val. ')[0])\n",
    "df_uso['ID'] = df_uso['EAN'].astype(str) + df_uso['Suc_uso'].apply(lambda x: x.split(' Unid.Vend')[0])\n",
    "# Merge data stock\n",
    "data_stock = df_us.merge(df_sv, on='ID', how='outer')\n",
    "# Merge data sell out\n",
    "data_so = df_uso.merge(df_sov, on='ID', how='outer')"
   ]
  },
  {
   "cell_type": "code",
   "execution_count": 13,
   "metadata": {},
   "outputs": [],
   "source": [
    "# Formatting data stock\n",
    "stock_final = data_stock.copy()\n",
    "stock_final['Fecha_Stock'] = df_days['TmpFecha'].max()\n",
    "stock_final['Fecha_Stock'] = stock_final['Fecha_Stock'].dt.date\n",
    "stock_final['Cadena'] = 'Pigmento'\n",
    "stock_final['Descripcion_Local'] = stock_final['Suc_uv'].apply(lambda x: x.split(' Stock')[0])\n",
    "stock_final = stock_final.merge(df_sucs.rename({'SucCodCliente':'Descripcion_Local'}, axis=1), on='Descripcion_Local', how='left')\n",
    "stock_final.rename({'EAN_x':'EAN o UPC Genomma', 'Unidades Inv':'Unidades', 'ARTICULO  ':'Cod_Prod', 'DESCRIP   ':'Descripcion_Prod', 'Monto Inv':'Valores_Costo', 'SucId':'Cod_Local'}, axis=1, inplace=True)\n",
    "#stock_final['Cod_Prod'] = stock_final['EAN o UPC Genomma']"
   ]
  },
  {
   "cell_type": "code",
   "execution_count": 14,
   "metadata": {},
   "outputs": [
    {
     "data": {
      "text/plain": [
       "EAN o UPC Genomma    0\n",
       "Suc_uv               0\n",
       "Unidades             0\n",
       "ID                   0\n",
       "Cod_Prod             0\n",
       "EAN_y                0\n",
       "Descripcion_Prod     0\n",
       "Suc_vs               0\n",
       "Valores_Costo        0\n",
       "Fecha_Stock          0\n",
       "Cadena               0\n",
       "Descripcion_Local    0\n",
       "Cod_Local            0\n",
       "dtype: int64"
      ]
     },
     "execution_count": 14,
     "metadata": {},
     "output_type": "execute_result"
    }
   ],
   "source": [
    "stock_final.isnull().sum()"
   ]
  },
  {
   "cell_type": "code",
   "execution_count": 15,
   "metadata": {},
   "outputs": [],
   "source": [
    "stock_final = stock_final.pivot_table(index=['Fecha_Stock', 'Cadena', 'Cod_Prod', 'EAN o UPC Genomma', 'Descripcion_Prod', 'Cod_Local', 'Descripcion_Local'], \n",
    "                                      values=['Unidades', 'Valores_Costo'], aggfunc='sum').reset_index()\n",
    "\n",
    "stock_final = stock_final[['Fecha_Stock', 'Cadena', 'Cod_Prod', 'EAN o UPC Genomma', 'Descripcion_Prod', 'Cod_Local', 'Descripcion_Local', 'Unidades', 'Valores_Costo']].copy()"
   ]
  },
  {
   "cell_type": "code",
   "execution_count": 16,
   "metadata": {},
   "outputs": [
    {
     "data": {
      "text/plain": [
       "array([], dtype=object)"
      ]
     },
     "execution_count": 16,
     "metadata": {},
     "output_type": "execute_result"
    }
   ],
   "source": [
    "stock_final.loc[stock_final['Cod_Local'].isnull(), 'Descripcion_Local'].unique()"
   ]
  },
  {
   "cell_type": "code",
   "execution_count": 17,
   "metadata": {},
   "outputs": [],
   "source": [
    "# Formatting data sell out\n",
    "so_final = data_so.copy()\n",
    "so_final['Fecha_Venta'] = df_days['TmpFecha'].max()\n",
    "so_final['Fecha_Venta'] = so_final['Fecha_Venta'].dt.date\n",
    "so_final['Cadena'] = 'Pigmento'\n",
    "so_final['Descripcion_Local'] = so_final['Suc_uso'].apply(lambda x: x.split(' Unid.Vend')[0])\n",
    "so_final = so_final.merge(df_sucs.rename({'SucCodCliente':'Descripcion_Local'}, axis=1), on='Descripcion_Local', how='left')\n",
    "so_final.rename({'EAN_x':'EAN o UPC Genomma', 'Unidades SO':'Unidades', 'ARTICULO  ':'Cod_Prod de la Cadena', 'DESCRIP   ':'Descripcion_Prod', 'Monto SO':'Valores_Costo', 'SucId':'Cod_Local'}, axis=1, inplace=True)\n",
    "#so_final['Cod_Prod de la Cadena'] = so_final['EAN o UPC Genomma']"
   ]
  },
  {
   "cell_type": "code",
   "execution_count": 18,
   "metadata": {},
   "outputs": [
    {
     "data": {
      "text/plain": [
       "EAN o UPC Genomma        0\n",
       "Suc_uso                  0\n",
       "Unidades                 0\n",
       "ID                       0\n",
       "Cod_Prod de la Cadena    0\n",
       "EAN_y                    0\n",
       "Descripcion_Prod         0\n",
       "Suc_vso                  0\n",
       "Valores_Costo            0\n",
       "Fecha_Venta              0\n",
       "Cadena                   0\n",
       "Descripcion_Local        0\n",
       "Cod_Local                0\n",
       "dtype: int64"
      ]
     },
     "execution_count": 18,
     "metadata": {},
     "output_type": "execute_result"
    }
   ],
   "source": [
    "so_final.isnull().sum()"
   ]
  },
  {
   "cell_type": "code",
   "execution_count": 19,
   "metadata": {},
   "outputs": [],
   "source": [
    "so_final = so_final.pivot_table(index=['Fecha_Venta', 'Cadena', 'Cod_Prod de la Cadena', 'EAN o UPC Genomma', 'Descripcion_Prod', 'Cod_Local', 'Descripcion_Local'],\n",
    "                                values=['Unidades', 'Valores_Costo'], aggfunc='sum').reset_index()\n",
    "\n",
    "so_final = so_final[['Fecha_Venta', 'Cadena', 'Cod_Prod de la Cadena', 'EAN o UPC Genomma', 'Descripcion_Prod', 'Cod_Local', 'Descripcion_Local', 'Unidades', 'Valores_Costo']].copy()"
   ]
  },
  {
   "cell_type": "code",
   "execution_count": 20,
   "metadata": {},
   "outputs": [
    {
     "data": {
      "text/plain": [
       "array([], dtype=object)"
      ]
     },
     "execution_count": 20,
     "metadata": {},
     "output_type": "execute_result"
    }
   ],
   "source": [
    "so_final.loc[so_final['Cod_Local'].isnull(), 'Descripcion_Local'].unique()"
   ]
  },
  {
   "cell_type": "markdown",
   "metadata": {},
   "source": [
    "## Export data"
   ]
  },
  {
   "cell_type": "code",
   "execution_count": 21,
   "metadata": {},
   "outputs": [],
   "source": [
    "def write_layout(filename, df, sellout=True):\n",
    "    writer = pd.ExcelWriter(filename, engine='openpyxl', mode='a')\n",
    "    writer.book = load_workbook(filename)\n",
    "    writer.sheets = {ws.title:ws for ws in writer.book.worksheets}\n",
    "    if sellout == True:\n",
    "        df.to_excel(writer, sheet_name='Ventas', startcol=1, startrow=18, index=False, header=None)\n",
    "    else:\n",
    "        df.to_excel(writer, sheet_name='Stock', startcol=1, startrow=18, index=False, header=None)\n",
    "    writer.save()"
   ]
  },
  {
   "cell_type": "markdown",
   "metadata": {},
   "source": [
    "Toma el layout de ISV y crea la carpeta correspondiente:"
   ]
  },
  {
   "cell_type": "code",
   "execution_count": 22,
   "metadata": {},
   "outputs": [],
   "source": [
    "original = '../../../../1Data/2Catalogue/toISV/Layout/Formato No B2B Orig.xlsx'\n",
    "new_folder = '../../../../1Data/2Catalogue/toISV/{0}/S{1}'.format(year, str(week).zfill(2))\n",
    "\n",
    "#Create a new directory\n",
    "if not os.path.exists(new_folder):\n",
    "    os.mkdir(new_folder)"
   ]
  },
  {
   "cell_type": "code",
   "execution_count": 23,
   "metadata": {},
   "outputs": [
    {
     "name": "stdout",
     "output_type": "stream",
     "text": [
      "Wall time: 10.7 s\n"
     ]
    }
   ],
   "source": [
    "%%time\n",
    "filename = 'Formato No B2B PIGMENTO Sem {}.xlsx'.format(str(week).zfill(2))\n",
    "path_export = new_folder + '/' + filename\n",
    "# Copy layout with name <filename>\n",
    "shutil.copy(original, path_export)\n",
    "# Export in different sheets\n",
    "write_layout(path_export, so_final, True)\n",
    "write_layout(path_export, stock_final, False)"
   ]
  },
  {
   "cell_type": "markdown",
   "metadata": {},
   "source": [
    "# Historic Data"
   ]
  },
  {
   "cell_type": "markdown",
   "metadata": {},
   "source": [
    "year_week = [(2021, 36), (2021, 38), (2021, 39), (2021, 40)]"
   ]
  },
  {
   "cell_type": "markdown",
   "metadata": {},
   "source": [
    "%%time\n",
    "#Iterate historic 2020 & 2021\n",
    "data = {'so':pd.DataFrame(), 'stock':pd.DataFrame()}\n",
    "locales_alta = []\n",
    "#year_week = [(y, w) for y in range(2020, 2022) for w in range(1, 53) if int(str(y) + str(w)) < 202131]\n",
    "year_week = [(2020, w) for w in range(1, 53)]\n",
    "for year, week in year_week:\n",
    "    if int(str(year) + str(week)) in [20209, 202013, 202033, 202118]:\n",
    "        continue\n",
    "    path = r'C:\\Users\\jshernandezm\\OneDrive - genommalabinternacional\\Info_POS_clientes\\Sell Out - No B2b\\Pigmento'\n",
    "    file_name = '{0}_{1}_Pigmento.xlsx'\n",
    "\n",
    "    df_days = pd.read_sql(query_days.format(year, week), conn1)\n",
    "    \n",
    "    df = pd.read_excel(path + '\\\\' + file_name.format(year, str(week).zfill(2)), header=1)\n",
    "    \n",
    "    if not ('ARTICULO  ' in df.columns and 'COD_PROV  ' in df.columns):\n",
    "        df = pd.read_excel(path + '\\\\' + file_name.format(year, str(week).zfill(2)))\n",
    "    \n",
    "    df.rename({'EAN':'COD_PROV  ', 'DESCRIPCION':'DESCRIP   '}, axis=1, inplace=True)\n",
    "    \n",
    "    df.loc[df['ARTICULO  '] == '91251', 'COD_PROV  '] = 7798140259794\n",
    "    df.loc[df['ARTICULO  '] == '79158', 'COD_PROV  '] = 650240018619\n",
    "    \n",
    "    try:\n",
    "        not_null = df[df['PROVEEDOR '].isnull()].index.min()\n",
    "    except:\n",
    "        try:\n",
    "            not_null = df[df['Tot.Stock Val    '].isnull()].index.min()\n",
    "        except:\n",
    "            df = pd.read_excel(path + '\\\\' + file_name.format(year, str(week).zfill(2)))\n",
    "            not_null = df[df['Tot.Stock Val    '].isnull()].index.min()\n",
    "        \n",
    "    if pd.isnull(not_null):\n",
    "        not_null = df.shape[0]\n",
    "    df.rename({'EAN':'COD_PROV  ', 'DESCRIPCION':'DESCRIP   '}, axis=1, inplace=True)\n",
    "    \n",
    "    \n",
    "    df = df[0:not_null].copy()\n",
    "    df = df[df['COD_PROV  '].notnull()].copy()\n",
    "    df.reset_index(inplace=True, drop=True)\n",
    "    df['EAN'] = df['COD_PROV  '].astype('int64')\n",
    "\n",
    "    un_stock_cols = [c for c in df.columns if c.endswith('Stock')]\n",
    "    val_stock_cols = [c for c in df.columns if c.endswith('Stock Val.')]\n",
    "    un_so_cols = [c for c in df.columns if c.endswith('Unid.Vend')]\n",
    "    val_so_cols = [c for c in df.columns if c.endswith('Unid.Val. ')]\n",
    "    #'DESCRIPCION'\n",
    "    sku_cols = ['ARTICULO  ', 'EAN', 'DESCRIP   ']\n",
    "\n",
    "    if un_stock_cols[-1:][0] == 'Total Stock':\n",
    "        un_stock_cols.pop(len(un_stock_cols) - 1)\n",
    "\n",
    "    df_vs = df[sku_cols + val_stock_cols].melt(id_vars=sku_cols, value_vars=val_stock_cols, var_name='Suc_vs', value_name='Monto Inv')\n",
    "    df_us = df[['EAN'] + un_stock_cols].melt(id_vars=['EAN'], value_vars=un_stock_cols, var_name='Suc_uv', value_name='Unidades Inv')\n",
    "    df_vso = df[sku_cols + val_so_cols].melt(id_vars=sku_cols, value_vars=val_so_cols, var_name='Suc_vso', value_name='Monto SO')\n",
    "    df_uso = df[['EAN'] + un_so_cols].melt(id_vars=['EAN'], value_vars=un_so_cols, var_name='Suc_uso', value_name='Unidades SO')\n",
    "    \n",
    "    df_vs = df_vs.groupby(sku_cols + ['Suc_vs']).sum().reset_index()\n",
    "    df_us = df_us.groupby(['EAN', 'Suc_uv']).sum().reset_index()\n",
    "    df_vso = df_vso.groupby(sku_cols + ['Suc_vso']).sum().reset_index()\n",
    "    df_uso = df_uso.groupby(['EAN', 'Suc_uso']).sum().reset_index()\n",
    "    \n",
    "    df_us['ID'] = df_us['EAN'].astype(str) + df_us['Suc_uv'].apply(lambda x: x.split(' Stock')[0])\n",
    "    df_vs['ID'] = df_vs['EAN'].astype(str) + df_vs['Suc_vs'].apply(lambda x: x.split(' Stock Val.')[0])\n",
    "    df_uso['ID'] = df_uso['EAN'].astype(str) + df_uso['Suc_uso'].apply(lambda x: x.split(' Unid.Vend')[0])\n",
    "    df_vso['ID'] = df_vso['EAN'].astype(str) + df_vso['Suc_vso'].apply(lambda x: x.split(' Unid.Val. ')[0])\n",
    "\n",
    "    data_stock = df_us.merge(df_vs, on='ID', how='outer')\n",
    "    data_so = df_uso.merge(df_vso, on='ID', how='outer')\n",
    "    \n",
    "    # Formatting data stock\n",
    "    stock_final = data_stock.copy()\n",
    "    stock_final['Fecha_Stock'] = df_days['TmpFecha'].max()\n",
    "    stock_final['Fecha_Stock'] = stock_final['Fecha_Stock'].dt.date\n",
    "    stock_final['Cadena'] = 'Pigmento'\n",
    "    stock_final['Descripcion_Local'] = stock_final['Suc_uv'].apply(lambda x: x.split(' Stock')[0])\n",
    "    stock_final = stock_final.merge(df_sucs.rename({'SucCodCliente':'Descripcion_Local'}, axis=1), on='Descripcion_Local', how='left')\n",
    "    stock_final.rename({'EAN_x':'EAN o UPC Genomma', 'Unidades Inv':'Unidades', 'ARTICULO  ':'Cod_Prod', 'DESCRIP   ':'Descripcion_Prod', 'Monto Inv':'Valores_Costo', 'SucId':'Cod_Local'}, axis=1, inplace=True)\n",
    "    stock_final['Cod_Prod'] = stock_final['EAN o UPC Genomma']\n",
    "    \n",
    "    stock_final = stock_final.pivot_table(index=['Fecha_Stock', 'Cadena', 'Cod_Prod', 'EAN o UPC Genomma', 'Descripcion_Prod', 'Cod_Local', 'Descripcion_Local'], \n",
    "                                      values=['Unidades', 'Valores_Costo'], aggfunc='sum').reset_index()\n",
    "    stock_final = stock_final[['Fecha_Stock', 'Cadena', 'Cod_Prod', 'EAN o UPC Genomma', 'Descripcion_Prod', 'Cod_Local', 'Descripcion_Local', 'Unidades', 'Valores_Costo']].copy()\n",
    "\n",
    "    if len(stock_final.loc[stock_final['Cod_Local'].isnull(), 'Descripcion_Local'].unique()) > 0:\n",
    "        locales_alta += so_final.loc[so_final['Cod_Local'].isnull(), 'Descripcion_Local'].unique().tolist()\n",
    "        print('Sucursales a dar de alta en ', year, '-', week)\n",
    "        print('-'*20, '\\n')\n",
    "    else:\n",
    "        so_final = data_so.copy()\n",
    "        so_final['Fecha_Venta'] = df_days['TmpFecha'].max()\n",
    "        so_final['Fecha_Venta'] = so_final['Fecha_Venta'].dt.date\n",
    "        so_final['Cadena'] = 'Pigmento'\n",
    "        so_final['Descripcion_Local'] = so_final['Suc_uso'].apply(lambda x: x.split(' Unid.Vend')[0])\n",
    "        so_final = so_final.merge(df_sucs.rename({'SucCodCliente':'Descripcion_Local'}, axis=1), on='Descripcion_Local', how='left')\n",
    "        so_final.rename({'EAN_x':'EAN o UPC Genomma', 'Unidades SO':'Unidades', 'DESCRIP   ':'Descripcion_Prod', 'Monto SO':'Valores_Costo', 'SucId':'Cod_Local'}, axis=1, inplace=True)\n",
    "        so_final['Cod_Prod de la Cadena'] = so_final['EAN o UPC Genomma']\n",
    "        \n",
    "        so_final = so_final.pivot_table(index=['Fecha_Venta', 'Cadena', 'Cod_Prod de la Cadena', 'EAN o UPC Genomma', 'Descripcion_Prod', 'Cod_Local', 'Descripcion_Local'],\n",
    "                                values=['Unidades', 'Valores_Costo'], aggfunc='sum').reset_index()\n",
    "        so_final = so_final[['Fecha_Venta', 'Cadena', 'Cod_Prod de la Cadena', 'EAN o UPC Genomma', 'Descripcion_Prod', 'Cod_Local', 'Descripcion_Local', 'Unidades', 'Valores_Costo']].copy()    \n",
    "        \n",
    "        data['stock'] = pd.concat([data['stock'], stock_final])\n",
    "        data['so'] = pd.concat([data['so'], so_final])\n",
    "        print('Datos listos en ', year, '-', week)\n",
    "        print('-'*20, '\\n')"
   ]
  },
  {
   "cell_type": "code",
   "execution_count": null,
   "metadata": {},
   "outputs": [],
   "source": []
  }
 ],
 "metadata": {
  "kernelspec": {
   "display_name": "Python 3",
   "language": "python",
   "name": "python3"
  },
  "language_info": {
   "codemirror_mode": {
    "name": "ipython",
    "version": 3
   },
   "file_extension": ".py",
   "mimetype": "text/x-python",
   "name": "python",
   "nbconvert_exporter": "python",
   "pygments_lexer": "ipython3",
   "version": "3.7.6"
  },
  "toc": {
   "base_numbering": 1,
   "nav_menu": {},
   "number_sections": true,
   "sideBar": true,
   "skip_h1_title": false,
   "title_cell": "Table of Contents",
   "title_sidebar": "Contents",
   "toc_cell": false,
   "toc_position": {},
   "toc_section_display": true,
   "toc_window_display": true
  }
 },
 "nbformat": 4,
 "nbformat_minor": 4
}
